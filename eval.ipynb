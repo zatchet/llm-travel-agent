{
 "cells": [
  {
   "cell_type": "code",
   "execution_count": 1,
   "metadata": {},
   "outputs": [],
   "source": [
    "import yaml\n",
    "from Agent import *\n",
    "from load import Flight, load_flights_dataset\n",
    "import os\n",
    "\n",
    "class EvaluationResult:\n",
    "    def __init__(self, accuracy, conversation):\n",
    "        self.accuracy = accuracy\n",
    "        self.conversation = conversation\n",
    "        \n",
    "flights = load_flights_dataset()"
   ]
  },
  {
   "cell_type": "code",
   "execution_count": 2,
   "metadata": {},
   "outputs": [],
   "source": [
    "def eval_agent(benchmark_file: str, flights: List[Flight]) -> float:\n",
    "    \"\"\"\n",
    "    Evaluate the agent on the given benchmark YAML file.\n",
    "    \"\"\"\n",
    "    agent = Agent(flights)\n",
    "    with open(benchmark_file, \"r\") as file:\n",
    "        steps = yaml.safe_load(file)\n",
    "    for n, step in enumerate(steps):\n",
    "        response = agent.say(step[\"prompt\"])\n",
    "        match step[\"expected_type\"]:\n",
    "            case \"text\":\n",
    "                if not isinstance(response, TextResponse):\n",
    "                    return EvaluationResult(n / len(steps), agent.conversation)\n",
    "            case \"find-flights\":\n",
    "                if not isinstance(response, FindFlightsResponse):\n",
    "                    return EvaluationResult(n / len(steps), agent.conversation)\n",
    "                if set(response.available_flights) != set(step[\"expected_result\"]):\n",
    "                    return EvaluationResult(n / len(steps), agent.conversation)\n",
    "            case \"book-flight\":\n",
    "                if not isinstance(response, BookFlightResponse):\n",
    "                    return EvaluationResult(n / len(steps), agent.conversation)\n",
    "                if response.booked_flight != step[\"expected_result\"]:\n",
    "                    return EvaluationResult(n / len(steps), agent.conversation)\n",
    "    return EvaluationResult(1.0, agent.conversation)       \n"
   ]
  },
  {
   "cell_type": "code",
   "execution_count": 3,
   "metadata": {},
   "outputs": [
    {
     "name": "stdout",
     "output_type": "stream",
     "text": [
      "FILE: benchmark8.yml\n",
      "ACCURACY: 0.4\n",
      "\n",
      "FILE: benchmark9.yml\n",
      "ACCURACY: 1.0\n",
      "\n",
      "FILE: benchmark7.yml\n",
      "ACCURACY: 1.0\n",
      "\n",
      "FILE: benchmark6.yml\n",
      "ACCURACY: 1.0\n",
      "\n",
      "FILE: benchmark4.yml\n",
      "ACCURACY: 1.0\n",
      "\n",
      "FILE: benchmark5.yml\n",
      "ACCURACY: 1.0\n",
      "\n",
      "FILE: benchmark1.yml\n",
      "ACCURACY: 1.0\n",
      "\n",
      "FILE: benchmark2.yml\n",
      "ACCURACY: 0.0\n",
      "\n",
      "FILE: benchmark3.yml\n",
      "ACCURACY: 1.0\n",
      "\n",
      "FILE: benchmark10.yml\n",
      "ACCURACY: 1.0\n",
      "\n"
     ]
    }
   ],
   "source": [
    "for file in os.listdir('benchmarks'):\n",
    "    print(f\"FILE: {file}\")\n",
    "    result = eval_agent(benchmark_file=f'benchmarks/{file}', flights=flights)\n",
    "    print(f\"ACCURACY: {result.accuracy}\")\n",
    "    print()"
   ]
  },
  {
   "cell_type": "code",
   "execution_count": null,
   "metadata": {},
   "outputs": [],
   "source": []
  }
 ],
 "metadata": {
  "kernelspec": {
   "display_name": "Python 3.10.9 ('base')",
   "language": "python",
   "name": "python3"
  },
  "language_info": {
   "codemirror_mode": {
    "name": "ipython",
    "version": 3
   },
   "file_extension": ".py",
   "mimetype": "text/x-python",
   "name": "python",
   "nbconvert_exporter": "python",
   "pygments_lexer": "ipython3",
   "version": "3.10.9"
  },
  "vscode": {
   "interpreter": {
    "hash": "56e1e15c50b68d8c4b969acfefb226495578e635230ae70854d3445d80ca4a0b"
   }
  }
 },
 "nbformat": 4,
 "nbformat_minor": 2
}
